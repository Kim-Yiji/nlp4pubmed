{
 "cells": [
  {
   "cell_type": "code",
   "execution_count": 3,
   "id": "3ae1f76f",
   "metadata": {},
   "outputs": [
    {
     "name": "stdout",
     "output_type": "stream",
     "text": [
      "Requirement already satisfied: biopython in ./nlp4pubmed/lib/python3.11/site-packages (1.85)\n",
      "Requirement already satisfied: pandas in ./nlp4pubmed/lib/python3.11/site-packages (2.2.3)\n",
      "Requirement already satisfied: beautifulsoup4 in ./nlp4pubmed/lib/python3.11/site-packages (4.13.4)\n",
      "Requirement already satisfied: lxml in ./nlp4pubmed/lib/python3.11/site-packages (5.4.0)\n",
      "Requirement already satisfied: numpy in ./nlp4pubmed/lib/python3.11/site-packages (from biopython) (2.2.6)\n",
      "Requirement already satisfied: python-dateutil>=2.8.2 in ./nlp4pubmed/lib/python3.11/site-packages (from pandas) (2.9.0.post0)\n",
      "Requirement already satisfied: pytz>=2020.1 in ./nlp4pubmed/lib/python3.11/site-packages (from pandas) (2025.2)\n",
      "Requirement already satisfied: tzdata>=2022.7 in ./nlp4pubmed/lib/python3.11/site-packages (from pandas) (2025.2)\n",
      "Requirement already satisfied: soupsieve>1.2 in ./nlp4pubmed/lib/python3.11/site-packages (from beautifulsoup4) (2.7)\n",
      "Requirement already satisfied: typing-extensions>=4.0.0 in ./nlp4pubmed/lib/python3.11/site-packages (from beautifulsoup4) (4.14.0)\n",
      "Requirement already satisfied: six>=1.5 in ./nlp4pubmed/lib/python3.11/site-packages (from python-dateutil>=2.8.2->pandas) (1.17.0)\n"
     ]
    },
    {
     "name": "stderr",
     "output_type": "stream",
     "text": [
      "\n",
      "\u001b[1m[\u001b[0m\u001b[34;49mnotice\u001b[0m\u001b[1;39;49m]\u001b[0m\u001b[39;49m A new release of pip is available: \u001b[0m\u001b[31;49m24.0\u001b[0m\u001b[39;49m -> \u001b[0m\u001b[32;49m25.1.1\u001b[0m\n",
      "\u001b[1m[\u001b[0m\u001b[34;49mnotice\u001b[0m\u001b[1;39;49m]\u001b[0m\u001b[39;49m To update, run: \u001b[0m\u001b[32;49mpython3.11 -m pip install --upgrade pip\u001b[0m\n"
     ]
    },
    {
     "data": {
      "text/plain": [
       "CompletedProcess(args=['nlp4pubmed/bin/pip', 'install', 'biopython', 'pandas', 'beautifulsoup4', 'lxml'], returncode=0)"
      ]
     },
     "execution_count": 3,
     "metadata": {},
     "output_type": "execute_result"
    }
   ],
   "source": [
    "import os\n",
    "import sys\n",
    "import subprocess\n",
    "\n",
    "# ✅ 가상환경 + 패키지 자동 설치\n",
    "VENV_DIR = \"nlp4pubmed\"\n",
    "if not os.path.exists(VENV_DIR):\n",
    "    print(\"🔧 가상환경 생성 중...\")\n",
    "    subprocess.run([sys.executable, \"-m\", \"venv\", VENV_DIR])\n",
    "    print(\"✅ 완료\")\n",
    "\n",
    "PIP = os.path.join(VENV_DIR, \"Scripts\" if os.name == \"nt\" else \"bin\", \"pip\")\n",
    "subprocess.run([PIP, \"install\", \"biopython\", \"pandas\", \"beautifulsoup4\", \"lxml\"])\n",
    "\n"
   ]
  },
  {
   "cell_type": "code",
   "execution_count": 4,
   "id": "9d385867",
   "metadata": {},
   "outputs": [
    {
     "name": "stdout",
     "output_type": "stream",
     "text": [
      "Requirement already satisfied: bs4 in /Users/yiji/Desktop/YONSEI/텍스트정보처리론/nlp4pubmed/nlp4pubmed/lib/python3.11/site-packages (0.0.2)\n",
      "Requirement already satisfied: beautifulsoup4 in /Users/yiji/Desktop/YONSEI/텍스트정보처리론/nlp4pubmed/nlp4pubmed/lib/python3.11/site-packages (from bs4) (4.13.4)\n",
      "Requirement already satisfied: soupsieve>1.2 in /Users/yiji/Desktop/YONSEI/텍스트정보처리론/nlp4pubmed/nlp4pubmed/lib/python3.11/site-packages (from beautifulsoup4->bs4) (2.7)\n",
      "Requirement already satisfied: typing-extensions>=4.0.0 in /Users/yiji/Desktop/YONSEI/텍스트정보처리론/nlp4pubmed/nlp4pubmed/lib/python3.11/site-packages (from beautifulsoup4->bs4) (4.13.2)\n",
      "\n",
      "\u001b[1m[\u001b[0m\u001b[34;49mnotice\u001b[0m\u001b[1;39;49m]\u001b[0m\u001b[39;49m A new release of pip is available: \u001b[0m\u001b[31;49m24.0\u001b[0m\u001b[39;49m -> \u001b[0m\u001b[32;49m25.1.1\u001b[0m\n",
      "\u001b[1m[\u001b[0m\u001b[34;49mnotice\u001b[0m\u001b[1;39;49m]\u001b[0m\u001b[39;49m To update, run: \u001b[0m\u001b[32;49mpip install --upgrade pip\u001b[0m\n",
      "Note: you may need to restart the kernel to use updated packages.\n"
     ]
    }
   ],
   "source": [
    "pip install bs4"
   ]
  },
  {
   "cell_type": "code",
   "execution_count": 6,
   "id": "263e3594",
   "metadata": {},
   "outputs": [],
   "source": [
    "# ✅ 본 기능 시작\n",
    "import json\n",
    "import pandas as pd\n",
    "from Bio import Entrez\n",
    "from bs4 import BeautifulSoup\n",
    "from concurrent.futures import ThreadPoolExecutor, as_completed\n",
    "\n",
    "# 🔐 API 설정\n",
    "with open(\"config.json\", \"r\") as f:\n",
    "    config = json.load(f)\n",
    "Entrez.email = config[\"email\"]\n",
    "Entrez.api_key = config[\"api_key\"]\n"
   ]
  },
  {
   "cell_type": "code",
   "execution_count": 7,
   "id": "646f973e",
   "metadata": {},
   "outputs": [
    {
     "name": "stdout",
     "output_type": "stream",
     "text": [
      "🔍 1개의 논문에서 full text 수집 시작...\n",
      "✅ 저장 완료!\n"
     ]
    }
   ],
   "source": [
    "\n",
    "# ✅ full text 가져오기\n",
    "def fetch_full_text(pmid: str) -> dict:\n",
    "    result = {\"pmid\": pmid, \"full_text\": None, \"has_full_text\": False}\n",
    "    try:\n",
    "        link = Entrez.elink(dbfrom=\"pubmed\", id=pmid, linkname=\"pubmed_pmc\")\n",
    "        link_result = Entrez.read(link)\n",
    "        link.close()\n",
    "\n",
    "        pmcid = link_result[0][\"LinkSetDb\"][0][\"Link\"][0][\"Id\"]\n",
    "        fetch = Entrez.efetch(db=\"pmc\", id=pmcid, rettype=\"full\", retmode=\"xml\")\n",
    "        soup = BeautifulSoup(fetch.read(), \"lxml\")\n",
    "        fetch.close()\n",
    "\n",
    "        body = soup.find(\"body\")\n",
    "        if body:\n",
    "            paras = body.find_all(\"p\")\n",
    "            full_text = \"\\n\".join(p.get_text(strip=True) for p in paras)\n",
    "            result[\"full_text\"] = full_text\n",
    "            result[\"has_full_text\"] = True\n",
    "    except:\n",
    "        pass\n",
    "    return result\n",
    "\n",
    "# ✅ 사용자로부터 PMID 리스트 받기\n",
    "def load_pmids() -> list[str]:\n",
    "    option = input(\"📥 PMIDs 직접 입력(1) 또는 파일 불러오기(2)? \").strip()\n",
    "    \n",
    "    if option == \"1\":\n",
    "        raw = input(\"🔢 쉼표로 구분된 PMID들을 입력하세요: \")\n",
    "        pmids = [pmid.strip() for pmid in raw.split(\",\") if pmid.strip()]\n",
    "    elif option == \"2\":\n",
    "        filepath = input(\"📄 파일 경로를 입력하세요 (.txt or .csv): \").strip()\n",
    "        if filepath.endswith(\".txt\"):\n",
    "            with open(filepath, \"r\") as f:\n",
    "                pmids = [line.strip() for line in f if line.strip()]\n",
    "        elif filepath.endswith(\".csv\"):\n",
    "            col = input(\"🧾 CSV 파일에서 어떤 열에 pmid가 있나요? \").strip()\n",
    "            df = pd.read_csv(filepath)\n",
    "            pmids = df[col].astype(str).tolist()\n",
    "        else:\n",
    "            print(\"❌ 지원하지 않는 파일 형식입니다.\")\n",
    "            return []\n",
    "    else:\n",
    "        print(\"❌ 잘못된 선택입니다.\")\n",
    "        return []\n",
    "    return pmids\n",
    "\n",
    "# ✅ 저장\n",
    "def save_results(results: list[dict]):\n",
    "    df = pd.DataFrame(results)\n",
    "    os.makedirs(\"Database/fulltext_by_pmid\", exist_ok=True)\n",
    "    filename = input(\"📁 저장할 파일 이름을 입력하세요 (확장자 없이): \").strip()\n",
    "    base = filename.replace(\" \", \"_\")[:30]\n",
    "    df.to_csv(f\"Database/fulltext_by_pmid/{base}.csv\", index=False, encoding=\"utf-8-sig\")\n",
    "    df.to_json(f\"Database/fulltext_by_pmid/{base}.json\", force_ascii=False, indent=2)\n",
    "    print(\"✅ 저장 완료!\")\n",
    "\n",
    "# ✅ 실행\n",
    "if __name__ == \"__main__\":\n",
    "    pmids = load_pmids()\n",
    "    if not pmids:\n",
    "        print(\"❌ PMID가 없습니다. 종료합니다.\")\n",
    "        sys.exit()\n",
    "\n",
    "    print(f\"🔍 {len(pmids)}개의 논문에서 full text 수집 시작...\")\n",
    "\n",
    "    results = []\n",
    "    with ThreadPoolExecutor(max_workers=10) as executor:\n",
    "        futures = {executor.submit(fetch_full_text, pmid): pmid for pmid in pmids}\n",
    "        for future in as_completed(futures):\n",
    "            result = future.result()\n",
    "            if not result[\"full_text\"]:\n",
    "                result[\"full_text\"] = \"❌ Full text not available\"\n",
    "            results.append(result)\n",
    "\n",
    "    save_results(results)\n"
   ]
  },
  {
   "cell_type": "code",
   "execution_count": null,
   "id": "dd4b949a",
   "metadata": {},
   "outputs": [],
   "source": []
  }
 ],
 "metadata": {
  "kernelspec": {
   "display_name": "nlp4pubmed",
   "language": "python",
   "name": "python3"
  },
  "language_info": {
   "codemirror_mode": {
    "name": "ipython",
    "version": 3
   },
   "file_extension": ".py",
   "mimetype": "text/x-python",
   "name": "python",
   "nbconvert_exporter": "python",
   "pygments_lexer": "ipython3",
   "version": "3.11.9"
  }
 },
 "nbformat": 4,
 "nbformat_minor": 5
}
