{
 "cells": [
  {
   "cell_type": "code",
   "execution_count": 1,
   "metadata": {},
   "outputs": [
    {
     "name": "stdout",
     "output_type": "stream",
     "text": [
      "Requirement already satisfied: biopython in /Library/Frameworks/Python.framework/Versions/3.10/lib/python3.10/site-packages (1.85)\n",
      "Requirement already satisfied: requests in /Library/Frameworks/Python.framework/Versions/3.10/lib/python3.10/site-packages (2.32.3)\n",
      "Requirement already satisfied: pandas in /Library/Frameworks/Python.framework/Versions/3.10/lib/python3.10/site-packages (1.5.0)\n",
      "Requirement already satisfied: numpy in /Library/Frameworks/Python.framework/Versions/3.10/lib/python3.10/site-packages (from biopython) (1.26.4)\n",
      "Requirement already satisfied: charset-normalizer<4,>=2 in /Library/Frameworks/Python.framework/Versions/3.10/lib/python3.10/site-packages (from requests) (2.0.12)\n",
      "Requirement already satisfied: idna<4,>=2.5 in /Library/Frameworks/Python.framework/Versions/3.10/lib/python3.10/site-packages (from requests) (3.3)\n",
      "Requirement already satisfied: urllib3<3,>=1.21.1 in /Library/Frameworks/Python.framework/Versions/3.10/lib/python3.10/site-packages (from requests) (1.26.9)\n",
      "Requirement already satisfied: certifi>=2017.4.17 in /Library/Frameworks/Python.framework/Versions/3.10/lib/python3.10/site-packages (from requests) (2021.10.8)\n",
      "Requirement already satisfied: python-dateutil>=2.8.1 in /Library/Frameworks/Python.framework/Versions/3.10/lib/python3.10/site-packages (from pandas) (2.8.2)\n",
      "Requirement already satisfied: pytz>=2020.1 in /Library/Frameworks/Python.framework/Versions/3.10/lib/python3.10/site-packages (from pandas) (2022.1)\n",
      "Requirement already satisfied: six>=1.5 in /Library/Frameworks/Python.framework/Versions/3.10/lib/python3.10/site-packages (from python-dateutil>=2.8.1->pandas) (1.16.0)\n",
      "\n",
      "\u001b[1m[\u001b[0m\u001b[34;49mnotice\u001b[0m\u001b[1;39;49m]\u001b[0m\u001b[39;49m A new release of pip is available: \u001b[0m\u001b[31;49m24.2\u001b[0m\u001b[39;49m -> \u001b[0m\u001b[32;49m25.0.1\u001b[0m\n",
      "\u001b[1m[\u001b[0m\u001b[34;49mnotice\u001b[0m\u001b[1;39;49m]\u001b[0m\u001b[39;49m To update, run: \u001b[0m\u001b[32;49mpython3 -m pip install --upgrade pip\u001b[0m\n",
      "Note: you may need to restart the kernel to use updated packages.\n"
     ]
    }
   ],
   "source": [
    "pip install biopython requests pandas"
   ]
  },
  {
   "cell_type": "markdown",
   "metadata": {},
   "source": [
    "### 데이터 제공 방법\n",
    "1. PMC article datasets\n",
    "2. 2.PMC Journal List"
   ]
  },
  {
   "cell_type": "markdown",
   "metadata": {},
   "source": [
    "# 1. PMC article datasets"
   ]
  },
  {
   "cell_type": "code",
   "execution_count": 4,
   "metadata": {},
   "outputs": [],
   "source": [
    "from Bio import Entrez\n",
    "import time\n",
    "\n",
    "Entrez.email = \"parksungyong0101@naver.com\" # <- 본인 이메일\n",
    "\n",
    "# 키워드로 PMC 논문 검색\n",
    "def search_pmc(keyword, max_results=100):\n",
    "    handle = Entrez.esearch(db=\"pmc\", term=keyword, retmax=max_results)\n",
    "    record = Entrez.read(handle)\n",
    "    handle.close()\n",
    "    return record['IdList']\n",
    "\n",
    "# 논문 XML 다운로드\n",
    "def fetch_pmc(pmc_id):\n",
    "    handle = Entrez.efetch(db=\"pmc\", id=pmc_id, rettype=\"full\", retmode=\"xml\")\n",
    "    xml = handle.read()\n",
    "    handle.close()\n",
    "    return xml\n",
    "\n",
    "search_keyword = \"Drug Interaction\"  # <-- 검색할 키워드\n",
    "max_download_articles = 10           # <-- 다운로드할 논문 수 (필수입력)\n",
    "\n",
    "# 예시 사용법\n",
    "pmc_ids = search_pmc(\"Drug Interaction\", max_results=10)\n",
    "\n",
    "for pmc_id in pmc_ids:\n",
    "    xml_data = fetch_pmc(pmc_id).decode('utf-8')\n",
    "    with open(f\"{pmc_id}.xml\", \"w\", encoding=\"utf-8\") as f:\n",
    "        f.write(xml_data)\n",
    "    time.sleep(0.5)  # 과도한 요청 방지"
   ]
  },
  {
   "cell_type": "code",
   "execution_count": 11,
   "metadata": {},
   "outputs": [
    {
     "name": "stdout",
     "output_type": "stream",
     "text": [
      "11946286 완료\n",
      "11935471 완료\n",
      "11920219 완료\n",
      "11919272 완료\n",
      "11910312 완료\n",
      "11903327 완료\n",
      "11886857 완료\n",
      "11893426 완료\n",
      "11869883 완료\n",
      "11879991 완료\n",
      "CSV 저장 완료: pmc_articles.csv\n"
     ]
    }
   ],
   "source": [
    "from Bio import Entrez\n",
    "import pandas as pd\n",
    "import time\n",
    "\n",
    "# 본인 이메일 필수 입력!\n",
    "Entrez.email = \"your_email@example.com\"  # <-- 필수 수정!\n",
    "\n",
    "def search_pmc(keyword, max_results=10):\n",
    "    query = f'(\"{keyword}\"[Title] OR \"{keyword}\"[Abstract])'\n",
    "    handle = Entrez.esearch(db=\"pmc\", term=query, retmax=max_results)\n",
    "    record = Entrez.read(handle)\n",
    "    handle.close()\n",
    "    return record['IdList']\n",
    "\n",
    "def fetch_pmc_metadata(pmc_id):\n",
    "    handle = Entrez.efetch(db=\"pmc\", id=pmc_id, retmode=\"xml\")\n",
    "    xml_data = handle.read()\n",
    "    handle.close()\n",
    "    return xml_data\n",
    "\n",
    "def parse_pmc_xml(xml_data):\n",
    "    from bs4 import BeautifulSoup\n",
    "    soup = BeautifulSoup(xml_data, 'lxml')\n",
    "\n",
    "    title_tag = soup.find('article-title')\n",
    "    title = title_tag.get_text(strip=True) if title_tag else \"\"\n",
    "\n",
    "    abstract_tags = soup.find_all('abstract')\n",
    "    abstracts = ' '.join(ab.get_text(strip=True) for ab in abstract_tags)\n",
    "\n",
    "    return title, abstracts\n",
    "\n",
    "# 사용자 입력 부분\n",
    "search_keyword = \"drug interaction\"  # <-- 검색 키워드 입력!\n",
    "max_articles = 10                         # <-- 논문 최대 개수 입력!\n",
    "\n",
    "pmc_ids = search_pmc(search_keyword, max_results=max_articles)\n",
    "\n",
    "data = []\n",
    "for pmc_id in pmc_ids:\n",
    "    xml_data = fetch_pmc_metadata(pmc_id)\n",
    "    title, abstract = parse_pmc_xml(xml_data)\n",
    "    data.append({\n",
    "        'PMC_ID': pmc_id,\n",
    "        'Title': title,\n",
    "        'Abstract': abstract\n",
    "    })\n",
    "    print(f\"{pmc_id} 완료\")\n",
    "    time.sleep(0.5)\n",
    "\n",
    "# CSV로 저장하기\n",
    "df = pd.DataFrame(data)\n",
    "df.to_csv(\"pmc_articles.csv\", index=False, encoding='utf-8')\n",
    "\n",
    "print(\"CSV 저장 완료: pmc_articles.csv\")"
   ]
  }
 ],
 "metadata": {
  "interpreter": {
   "hash": "aee8b7b246df8f9039afb4144a1f6fd8d2ca17a180786b69acc140d282b71a49"
  },
  "kernelspec": {
   "display_name": "Python 3.10.4 64-bit",
   "language": "python",
   "name": "python3"
  },
  "language_info": {
   "codemirror_mode": {
    "name": "ipython",
    "version": 3
   },
   "file_extension": ".py",
   "mimetype": "text/x-python",
   "name": "python",
   "nbconvert_exporter": "python",
   "pygments_lexer": "ipython3",
   "version": "3.10.11"
  },
  "orig_nbformat": 4
 },
 "nbformat": 4,
 "nbformat_minor": 2
}
